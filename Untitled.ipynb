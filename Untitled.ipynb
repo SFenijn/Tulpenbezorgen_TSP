{
 "cells": [
  {
   "cell_type": "code",
   "execution_count": 56,
   "metadata": {},
   "outputs": [],
   "source": [
    "import pandas as pd\n",
    "import numpy as np\n",
    "from k_means_constrained import KMeansConstrained\n",
    "import matplotlib.pyplot as plt\n",
    "from scipy.spatial import distance_matrix"
   ]
  },
  {
   "cell_type": "code",
   "execution_count": 4,
   "metadata": {},
   "outputs": [],
   "source": [
    "df = pd.read_csv(\"HackaDay Optimization/Hackaday_improved/flower_geolocations.csv\", index_col=0)"
   ]
  },
  {
   "cell_type": "code",
   "execution_count": 48,
   "metadata": {},
   "outputs": [
    {
     "data": {
      "text/plain": [
       "Longitude     5.404500\n",
       "Latitude     51.450187\n",
       "Name: 0, dtype: float64"
      ]
     },
     "execution_count": 48,
     "metadata": {},
     "output_type": "execute_result"
    }
   ],
   "source": [
    "locations = df[['Longitude', 'Latitude']]\n",
    "depot = locations.iloc[0]\n",
    "locations = locations.iloc[1:]\n",
    "depot"
   ]
  },
  {
   "cell_type": "code",
   "execution_count": 49,
   "metadata": {},
   "outputs": [
    {
     "data": {
      "text/html": [
       "<div>\n",
       "<style scoped>\n",
       "    .dataframe tbody tr th:only-of-type {\n",
       "        vertical-align: middle;\n",
       "    }\n",
       "\n",
       "    .dataframe tbody tr th {\n",
       "        vertical-align: top;\n",
       "    }\n",
       "\n",
       "    .dataframe thead th {\n",
       "        text-align: right;\n",
       "    }\n",
       "</style>\n",
       "<table border=\"1\" class=\"dataframe\">\n",
       "  <thead>\n",
       "    <tr style=\"text-align: right;\">\n",
       "      <th></th>\n",
       "      <th>Longitude</th>\n",
       "      <th>Latitude</th>\n",
       "      <th>cluster</th>\n",
       "    </tr>\n",
       "  </thead>\n",
       "  <tbody>\n",
       "    <tr>\n",
       "      <th>1</th>\n",
       "      <td>5.488001</td>\n",
       "      <td>51.468241</td>\n",
       "      <td>0</td>\n",
       "    </tr>\n",
       "    <tr>\n",
       "      <th>2</th>\n",
       "      <td>5.473166</td>\n",
       "      <td>51.454618</td>\n",
       "      <td>3</td>\n",
       "    </tr>\n",
       "    <tr>\n",
       "      <th>3</th>\n",
       "      <td>5.477722</td>\n",
       "      <td>51.480267</td>\n",
       "      <td>0</td>\n",
       "    </tr>\n",
       "    <tr>\n",
       "      <th>4</th>\n",
       "      <td>5.489439</td>\n",
       "      <td>51.475132</td>\n",
       "      <td>0</td>\n",
       "    </tr>\n",
       "    <tr>\n",
       "      <th>5</th>\n",
       "      <td>5.489684</td>\n",
       "      <td>51.477812</td>\n",
       "      <td>0</td>\n",
       "    </tr>\n",
       "    <tr>\n",
       "      <th>...</th>\n",
       "      <td>...</td>\n",
       "      <td>...</td>\n",
       "      <td>...</td>\n",
       "    </tr>\n",
       "    <tr>\n",
       "      <th>105</th>\n",
       "      <td>5.505869</td>\n",
       "      <td>51.421031</td>\n",
       "      <td>2</td>\n",
       "    </tr>\n",
       "    <tr>\n",
       "      <th>106</th>\n",
       "      <td>5.492484</td>\n",
       "      <td>51.420338</td>\n",
       "      <td>2</td>\n",
       "    </tr>\n",
       "    <tr>\n",
       "      <th>107</th>\n",
       "      <td>5.507935</td>\n",
       "      <td>51.428513</td>\n",
       "      <td>2</td>\n",
       "    </tr>\n",
       "    <tr>\n",
       "      <th>108</th>\n",
       "      <td>5.498468</td>\n",
       "      <td>51.422284</td>\n",
       "      <td>2</td>\n",
       "    </tr>\n",
       "    <tr>\n",
       "      <th>109</th>\n",
       "      <td>5.490321</td>\n",
       "      <td>51.430731</td>\n",
       "      <td>2</td>\n",
       "    </tr>\n",
       "  </tbody>\n",
       "</table>\n",
       "<p>109 rows × 3 columns</p>\n",
       "</div>"
      ],
      "text/plain": [
       "     Longitude   Latitude  cluster\n",
       "1     5.488001  51.468241        0\n",
       "2     5.473166  51.454618        3\n",
       "3     5.477722  51.480267        0\n",
       "4     5.489439  51.475132        0\n",
       "5     5.489684  51.477812        0\n",
       "..         ...        ...      ...\n",
       "105   5.505869  51.421031        2\n",
       "106   5.492484  51.420338        2\n",
       "107   5.507935  51.428513        2\n",
       "108   5.498468  51.422284        2\n",
       "109   5.490321  51.430731        2\n",
       "\n",
       "[109 rows x 3 columns]"
      ]
     },
     "execution_count": 49,
     "metadata": {},
     "output_type": "execute_result"
    }
   ],
   "source": [
    "n = 4\n",
    "clf = KMeansConstrained(n_clusters=n, size_max = 30)\n",
    "y_pred = clf.fit_predict(locations)\n",
    "locations['cluster'] = y_pred\n",
    "locations"
   ]
  },
  {
   "cell_type": "code",
   "execution_count": 55,
   "metadata": {},
   "outputs": [
    {
     "data": {
      "text/plain": [
       "<matplotlib.collections.PathCollection at 0x201f7607eb0>"
      ]
     },
     "execution_count": 55,
     "metadata": {},
     "output_type": "execute_result"
    },
    {
     "data": {
      "image/png": "[encoded data removed]",
      "text/plain": [
       "<Figure size 432x288 with 1 Axes>"
      ]
     },
     "metadata": {
      "needs_background": "light"
     },
     "output_type": "display_data"
    }
   ],
   "source": [
    "plt.scatter(x='Longitude', y = 'Latitude', c='cluster', data=locations)\n",
    "centroids = clf.cluster_centers_\n",
    "plt.scatter(x=depot['Longitude'], y=depot['Latitude'],c='red', marker='s', linewidths=5)"
   ]
  },
  {
   "cell_type": "code",
   "execution_count": 30,
   "metadata": {},
   "outputs": [
    {
     "data": {
      "text/plain": [
       "array([1, 0, 3, 0, 0, 0, 0, 3, 0, 0, 0, 0, 0, 0, 0, 0, 0, 0, 0, 0, 0, 0,\n",
       "       1, 0, 0, 3, 0, 3, 0, 3, 0, 0, 0, 0, 0, 0, 0, 3, 3, 3, 3, 3, 3, 1,\n",
       "       1, 3, 1, 1, 3, 1, 3, 3, 1, 1, 3, 1, 1, 3, 1, 1, 3, 3, 3, 3, 3, 3,\n",
       "       3, 3, 3, 3, 3, 1, 3, 3, 1, 2, 2, 2, 2, 1, 1, 1, 1, 1, 1, 1, 1, 1,\n",
       "       1, 1, 1, 1, 1, 2, 2, 2, 2, 2, 2, 2, 2, 2, 2, 2, 2, 2, 2, 2, 2, 2])"
      ]
     },
     "execution_count": 30,
     "metadata": {},
     "output_type": "execute_result"
    }
   ],
   "source": [
    "y_pred "
   ]
  },
  {
   "cell_type": "code",
   "execution_count": 31,
   "metadata": {},
   "outputs": [],
   "source": [
    "l0 = 0\n",
    "l1 = 0\n",
    "l2 = 0\n",
    "l3 = 0"
   ]
  },
  {
   "cell_type": "code",
   "execution_count": 32,
   "metadata": {},
   "outputs": [
    {
     "name": "stdout",
     "output_type": "stream",
     "text": [
      "cluster sizes:\n",
      "cluster 0: 30\n",
      "cluster 1: 29\n",
      "cluster 2: 21\n",
      "cluster 3: 30\n"
     ]
    }
   ],
   "source": [
    "for i in y_pred:\n",
    "    if i == 0:\n",
    "        l0+=1\n",
    "    if i == 1:\n",
    "        l1 += 1\n",
    "    if i == 2:\n",
    "        l2 += 1\n",
    "    if i == 3:\n",
    "        l3 += 1\n",
    "print(\"cluster sizes:\")\n",
    "print(\"cluster 0:\", l0)\n",
    "print(\"cluster 1:\", l1)\n",
    "print(\"cluster 2:\", l2)\n",
    "print(\"cluster 3:\", l3)"
   ]
  },
  {
   "cell_type": "code",
   "execution_count": 59,
   "metadata": {},
   "outputs": [],
   "source": [
    "cluster0 = locations.loc[locations['cluster'] == 0]\n",
    "cluster1 = locations.loc[locations['cluster'] == 1]\n",
    "cluster2 = locations.loc[locations['cluster'] == 2]\n",
    "cluster3 = locations.loc[locations['cluster'] == 3]"
   ]
  },
  {
   "cell_type": "code",
   "execution_count": 62,
   "metadata": {},
   "outputs": [
    {
     "name": "stderr",
     "output_type": "stream",
     "text": [
      "<ipython-input-62-37009496a07e>:1: SettingWithCopyWarning: \n",
      "A value is trying to be set on a copy of a slice from a DataFrame\n",
      "\n",
      "See the caveats in the documentation: https://pandas.pydata.org/pandas-docs/stable/user_guide/indexing.html#returning-a-view-versus-a-copy\n",
      "  cluster0.loc[-1] = depot\n"
     ]
    }
   ],
   "source": [
    "cluster0.loc[-1] = depot\n",
    "cluster1.loc[-1] = depot\n",
    "cluster2.loc[-1] = depot\n",
    "cluster3.loc[-1] = depot"
   ]
  },
  {
   "cell_type": "code",
   "execution_count": 63,
   "metadata": {},
   "outputs": [
    {
     "data": {
      "text/plain": [
       "Longitude     5.404500\n",
       "Latitude     51.450187\n",
       "Name: 0, dtype: float64"
      ]
     },
     "execution_count": 63,
     "metadata": {},
     "output_type": "execute_result"
    }
   ],
   "source": [
    "depot"
   ]
  },
  {
   "cell_type": "code",
   "execution_count": 64,
   "metadata": {},
   "outputs": [
    {
     "data": {
      "text/html": [
       "<div>\n",
       "<style scoped>\n",
       "    .dataframe tbody tr th:only-of-type {\n",
       "        vertical-align: middle;\n",
       "    }\n",
       "\n",
       "    .dataframe tbody tr th {\n",
       "        vertical-align: top;\n",
       "    }\n",
       "\n",
       "    .dataframe thead th {\n",
       "        text-align: right;\n",
       "    }\n",
       "</style>\n",
       "<table border=\"1\" class=\"dataframe\">\n",
       "  <thead>\n",
       "    <tr style=\"text-align: right;\">\n",
       "      <th></th>\n",
       "      <th>Longitude</th>\n",
       "      <th>Latitude</th>\n",
       "      <th>cluster</th>\n",
       "    </tr>\n",
       "  </thead>\n",
       "  <tbody>\n",
       "    <tr>\n",
       "      <th>43</th>\n",
       "      <td>5.460839</td>\n",
       "      <td>51.423800</td>\n",
       "      <td>1.0</td>\n",
       "    </tr>\n",
       "    <tr>\n",
       "      <th>44</th>\n",
       "      <td>5.441310</td>\n",
       "      <td>51.415030</td>\n",
       "      <td>1.0</td>\n",
       "    </tr>\n",
       "    <tr>\n",
       "      <th>45</th>\n",
       "      <td>5.463026</td>\n",
       "      <td>51.419622</td>\n",
       "      <td>1.0</td>\n",
       "    </tr>\n",
       "    <tr>\n",
       "      <th>46</th>\n",
       "      <td>5.441489</td>\n",
       "      <td>51.414761</td>\n",
       "      <td>1.0</td>\n",
       "    </tr>\n",
       "    <tr>\n",
       "      <th>47</th>\n",
       "      <td>5.447567</td>\n",
       "      <td>51.418703</td>\n",
       "      <td>1.0</td>\n",
       "    </tr>\n",
       "    <tr>\n",
       "      <th>48</th>\n",
       "      <td>5.457669</td>\n",
       "      <td>51.431605</td>\n",
       "      <td>1.0</td>\n",
       "    </tr>\n",
       "    <tr>\n",
       "      <th>49</th>\n",
       "      <td>5.441120</td>\n",
       "      <td>51.415079</td>\n",
       "      <td>1.0</td>\n",
       "    </tr>\n",
       "    <tr>\n",
       "      <th>50</th>\n",
       "      <td>5.465053</td>\n",
       "      <td>51.422090</td>\n",
       "      <td>1.0</td>\n",
       "    </tr>\n",
       "    <tr>\n",
       "      <th>52</th>\n",
       "      <td>5.447677</td>\n",
       "      <td>51.419175</td>\n",
       "      <td>1.0</td>\n",
       "    </tr>\n",
       "    <tr>\n",
       "      <th>53</th>\n",
       "      <td>5.439025</td>\n",
       "      <td>51.417158</td>\n",
       "      <td>1.0</td>\n",
       "    </tr>\n",
       "    <tr>\n",
       "      <th>54</th>\n",
       "      <td>5.465043</td>\n",
       "      <td>51.421792</td>\n",
       "      <td>1.0</td>\n",
       "    </tr>\n",
       "    <tr>\n",
       "      <th>55</th>\n",
       "      <td>5.447507</td>\n",
       "      <td>51.419145</td>\n",
       "      <td>1.0</td>\n",
       "    </tr>\n",
       "    <tr>\n",
       "      <th>56</th>\n",
       "      <td>5.452705</td>\n",
       "      <td>51.425547</td>\n",
       "      <td>1.0</td>\n",
       "    </tr>\n",
       "    <tr>\n",
       "      <th>57</th>\n",
       "      <td>5.461354</td>\n",
       "      <td>51.426620</td>\n",
       "      <td>1.0</td>\n",
       "    </tr>\n",
       "    <tr>\n",
       "      <th>58</th>\n",
       "      <td>5.440596</td>\n",
       "      <td>51.413856</td>\n",
       "      <td>1.0</td>\n",
       "    </tr>\n",
       "    <tr>\n",
       "      <th>59</th>\n",
       "      <td>5.409469</td>\n",
       "      <td>51.439260</td>\n",
       "      <td>1.0</td>\n",
       "    </tr>\n",
       "    <tr>\n",
       "      <th>79</th>\n",
       "      <td>5.437802</td>\n",
       "      <td>51.445402</td>\n",
       "      <td>1.0</td>\n",
       "    </tr>\n",
       "    <tr>\n",
       "      <th>80</th>\n",
       "      <td>5.432074</td>\n",
       "      <td>51.442637</td>\n",
       "      <td>1.0</td>\n",
       "    </tr>\n",
       "    <tr>\n",
       "      <th>81</th>\n",
       "      <td>5.444407</td>\n",
       "      <td>51.439866</td>\n",
       "      <td>1.0</td>\n",
       "    </tr>\n",
       "    <tr>\n",
       "      <th>82</th>\n",
       "      <td>5.444673</td>\n",
       "      <td>51.438228</td>\n",
       "      <td>1.0</td>\n",
       "    </tr>\n",
       "    <tr>\n",
       "      <th>83</th>\n",
       "      <td>5.439821</td>\n",
       "      <td>51.439058</td>\n",
       "      <td>1.0</td>\n",
       "    </tr>\n",
       "    <tr>\n",
       "      <th>84</th>\n",
       "      <td>5.439821</td>\n",
       "      <td>51.439058</td>\n",
       "      <td>1.0</td>\n",
       "    </tr>\n",
       "    <tr>\n",
       "      <th>85</th>\n",
       "      <td>5.439821</td>\n",
       "      <td>51.439058</td>\n",
       "      <td>1.0</td>\n",
       "    </tr>\n",
       "    <tr>\n",
       "      <th>86</th>\n",
       "      <td>5.439821</td>\n",
       "      <td>51.439058</td>\n",
       "      <td>1.0</td>\n",
       "    </tr>\n",
       "    <tr>\n",
       "      <th>87</th>\n",
       "      <td>5.439821</td>\n",
       "      <td>51.439058</td>\n",
       "      <td>1.0</td>\n",
       "    </tr>\n",
       "    <tr>\n",
       "      <th>88</th>\n",
       "      <td>5.439821</td>\n",
       "      <td>51.439058</td>\n",
       "      <td>1.0</td>\n",
       "    </tr>\n",
       "    <tr>\n",
       "      <th>89</th>\n",
       "      <td>5.439821</td>\n",
       "      <td>51.439058</td>\n",
       "      <td>1.0</td>\n",
       "    </tr>\n",
       "    <tr>\n",
       "      <th>90</th>\n",
       "      <td>5.439821</td>\n",
       "      <td>51.439058</td>\n",
       "      <td>1.0</td>\n",
       "    </tr>\n",
       "    <tr>\n",
       "      <th>91</th>\n",
       "      <td>5.439821</td>\n",
       "      <td>51.439058</td>\n",
       "      <td>1.0</td>\n",
       "    </tr>\n",
       "    <tr>\n",
       "      <th>92</th>\n",
       "      <td>5.439821</td>\n",
       "      <td>51.439058</td>\n",
       "      <td>1.0</td>\n",
       "    </tr>\n",
       "    <tr>\n",
       "      <th>-1</th>\n",
       "      <td>5.404500</td>\n",
       "      <td>51.450187</td>\n",
       "      <td>NaN</td>\n",
       "    </tr>\n",
       "  </tbody>\n",
       "</table>\n",
       "</div>"
      ],
      "text/plain": [
       "     Longitude   Latitude  cluster\n",
       " 43   5.460839  51.423800      1.0\n",
       " 44   5.441310  51.415030      1.0\n",
       " 45   5.463026  51.419622      1.0\n",
       " 46   5.441489  51.414761      1.0\n",
       " 47   5.447567  51.418703      1.0\n",
       " 48   5.457669  51.431605      1.0\n",
       " 49   5.441120  51.415079      1.0\n",
       " 50   5.465053  51.422090      1.0\n",
       " 52   5.447677  51.419175      1.0\n",
       " 53   5.439025  51.417158      1.0\n",
       " 54   5.465043  51.421792      1.0\n",
       " 55   5.447507  51.419145      1.0\n",
       " 56   5.452705  51.425547      1.0\n",
       " 57   5.461354  51.426620      1.0\n",
       " 58   5.440596  51.413856      1.0\n",
       " 59   5.409469  51.439260      1.0\n",
       " 79   5.437802  51.445402      1.0\n",
       " 80   5.432074  51.442637      1.0\n",
       " 81   5.444407  51.439866      1.0\n",
       " 82   5.444673  51.438228      1.0\n",
       " 83   5.439821  51.439058      1.0\n",
       " 84   5.439821  51.439058      1.0\n",
       " 85   5.439821  51.439058      1.0\n",
       " 86   5.439821  51.439058      1.0\n",
       " 87   5.439821  51.439058      1.0\n",
       " 88   5.439821  51.439058      1.0\n",
       " 89   5.439821  51.439058      1.0\n",
       " 90   5.439821  51.439058      1.0\n",
       " 91   5.439821  51.439058      1.0\n",
       " 92   5.439821  51.439058      1.0\n",
       "-1    5.404500  51.450187      NaN"
      ]
     },
     "execution_count": 64,
     "metadata": {},
     "output_type": "execute_result"
    }
   ],
   "source": []
  },
  {
   "cell_type": "code",
   "execution_count": null,
   "metadata": {},
   "outputs": [],
   "source": []
  }
 ],
 "metadata": {
  "kernelspec": {
   "display_name": "Python 3",
   "language": "python",
   "name": "python3"
  },
  "language_info": {
   "codemirror_mode": {
    "name": "ipython",
    "version": 3
   },
   "file_extension": ".py",
   "mimetype": "text/x-python",
   "name": "python",
   "nbconvert_exporter": "python",
   "pygments_lexer": "ipython3",
   "version": "3.8.6"
  }
 },
 "nbformat": 4,
 "nbformat_minor": 4
}
